{
 "cells": [
  {
   "cell_type": "markdown",
   "metadata": {},
   "source": [
    "# Predicting Ranked Choice Voting\n",
    "\n",
    "## Introduction\n",
    "\n",
    "Ranked choice voting is a voting system where people can vote for and rank candidates in order of their preference. A consulting company would like to know the best way to increase people's support for ranked choice voting in the U.S. Survey data needs to be analyzed to find the types of people who do and do not already support ranked choice voting. With this information, the company can decide who they should show their education and advertisement campaigns to. \n",
    "\n",
    "The main goals of the company are to find who currently supports ranked choice voting and find how to predict people who might not support ranked choice voting. By predicting who might not support ranked choice voting, the company can direct their education and advertisement campaigns to those people. As a result, the company can increase support for ranked choice voting in the United States through their targetted campaigns."
   ]
  },
  {
   "cell_type": "markdown",
   "metadata": {},
   "source": [
    "## Data Description\n",
    "\n",
    "In the Pulse of the Nation dataset, there are 800 people total. There are two tables showing the number of people for each political affiliation and leaning. For political affiliation, there are 60 people who don't know or did not answer. There are 263 people who identify as Democrat, 262 people who identify as Independent, and 215 people who identify as Republican. For political leaning, there are 73 people who don't know or did not answer. There are 245 people who identify as Conservative, 143 people who identify as Liberal, and 339 people who identify as Moderate. 69 people don't know or did not answer whether they support ranked choice. There is also a table showing the number of people who did or did not support ranked choice. 345 people did not support ranked choice voting while 386 people did support ranked choice voting. \n",
    "\n",
    "Also included below are contingency tables that list the counts for political affiliation and ranked choice as well as for political leaning and ranked choice. There are also two bar graphs for each contingency table. For the first bar graph comparing political affiliation and ranked choice, there appears to be more Democrats who support ranked choice while more Republicans were against ranked choice. For the second bar graph comparing political leaning and ranked choice, there were more Moderates who supported ranked choice than other political leanings and there were more Moderates who were against ranked choice compared to other political leanings. "
   ]
  },
  {
   "cell_type": "code",
   "execution_count": 18,
   "metadata": {},
   "outputs": [],
   "source": [
    "# importing required libraries\n",
    "import numpy as np\n",
    "from datascience import *\n",
    "\n",
    "import matplotlib\n",
    "%matplotlib inline\n",
    "import matplotlib.pyplot as plt\n",
    "plt.style.use('fivethirtyeight')\n",
    "\n",
    "# importing dataset\n",
    "survey_data = Table.read_table(\"CAH_PulseoftheNation_FinalProject.csv\")"
   ]
  },
  {
   "cell_type": "code",
   "execution_count": 3,
   "metadata": {},
   "outputs": [
    {
     "data": {
      "text/plain": [
       "800"
      ]
     },
     "execution_count": 3,
     "metadata": {},
     "output_type": "execute_result"
    }
   ],
   "source": [
    "# finding the total number of people there are in the dataset\n",
    "survey_data.num_rows"
   ]
  },
  {
   "cell_type": "code",
   "execution_count": 4,
   "metadata": {},
   "outputs": [
    {
     "data": {
      "text/html": [
       "<table border=\"1\" class=\"dataframe\">\n",
       "    <thead>\n",
       "        <tr>\n",
       "            <th>Political Affiliation</th> <th>count</th>\n",
       "        </tr>\n",
       "    </thead>\n",
       "    <tbody>\n",
       "        <tr>\n",
       "            <td>DK/REF               </td> <td>60   </td>\n",
       "        </tr>\n",
       "        <tr>\n",
       "            <td>Democrat             </td> <td>263  </td>\n",
       "        </tr>\n",
       "        <tr>\n",
       "            <td>Independent          </td> <td>262  </td>\n",
       "        </tr>\n",
       "        <tr>\n",
       "            <td>Republican           </td> <td>215  </td>\n",
       "        </tr>\n",
       "    </tbody>\n",
       "</table>"
      ],
      "text/plain": [
       "Political Affiliation | count\n",
       "DK/REF                | 60\n",
       "Democrat              | 263\n",
       "Independent           | 262\n",
       "Republican            | 215"
      ]
     },
     "execution_count": 4,
     "metadata": {},
     "output_type": "execute_result"
    }
   ],
   "source": [
    "# here is the number of people that identify with each political affiliation\n",
    "survey_data.group(\"Political Affiliation\")"
   ]
  },
  {
   "cell_type": "code",
   "execution_count": 5,
   "metadata": {},
   "outputs": [
    {
     "data": {
      "text/html": [
       "<table border=\"1\" class=\"dataframe\">\n",
       "    <thead>\n",
       "        <tr>\n",
       "            <th>Political Leaning</th> <th>count</th>\n",
       "        </tr>\n",
       "    </thead>\n",
       "    <tbody>\n",
       "        <tr>\n",
       "            <td>Conservative     </td> <td>245  </td>\n",
       "        </tr>\n",
       "        <tr>\n",
       "            <td>DK/REF           </td> <td>73   </td>\n",
       "        </tr>\n",
       "        <tr>\n",
       "            <td>Liberal          </td> <td>143  </td>\n",
       "        </tr>\n",
       "        <tr>\n",
       "            <td>Moderate         </td> <td>339  </td>\n",
       "        </tr>\n",
       "    </tbody>\n",
       "</table>"
      ],
      "text/plain": [
       "Political Leaning | count\n",
       "Conservative      | 245\n",
       "DK/REF            | 73\n",
       "Liberal           | 143\n",
       "Moderate          | 339"
      ]
     },
     "execution_count": 5,
     "metadata": {},
     "output_type": "execute_result"
    }
   ],
   "source": [
    "# here is the number of people that identify with each political leaning\n",
    "survey_data.group(\"Political Leaning\")"
   ]
  },
  {
   "cell_type": "code",
   "execution_count": 6,
   "metadata": {},
   "outputs": [
    {
     "data": {
      "text/html": [
       "<table border=\"1\" class=\"dataframe\">\n",
       "    <thead>\n",
       "        <tr>\n",
       "            <th>Ranked Choice</th> <th>count</th>\n",
       "        </tr>\n",
       "    </thead>\n",
       "    <tbody>\n",
       "        <tr>\n",
       "            <td>DK/REF       </td> <td>69   </td>\n",
       "        </tr>\n",
       "        <tr>\n",
       "            <td>No           </td> <td>345  </td>\n",
       "        </tr>\n",
       "        <tr>\n",
       "            <td>Yes          </td> <td>386  </td>\n",
       "        </tr>\n",
       "    </tbody>\n",
       "</table>"
      ],
      "text/plain": [
       "Ranked Choice | count\n",
       "DK/REF        | 69\n",
       "No            | 345\n",
       "Yes           | 386"
      ]
     },
     "execution_count": 6,
     "metadata": {},
     "output_type": "execute_result"
    }
   ],
   "source": [
    "# here is the number of people that support and don't support ranked choice voting\n",
    "survey_data.group(\"Ranked Choice\")"
   ]
  },
  {
   "cell_type": "code",
   "execution_count": 7,
   "metadata": {},
   "outputs": [
    {
     "data": {
      "text/html": [
       "<table border=\"1\" class=\"dataframe\">\n",
       "    <thead>\n",
       "        <tr>\n",
       "            <th>Ranked Choice</th> <th>DK/REF</th> <th>Democrat</th> <th>Independent</th> <th>Republican</th>\n",
       "        </tr>\n",
       "    </thead>\n",
       "    <tbody>\n",
       "        <tr>\n",
       "            <td>DK/REF       </td> <td>10    </td> <td>19      </td> <td>24         </td> <td>16        </td>\n",
       "        </tr>\n",
       "        <tr>\n",
       "            <td>No           </td> <td>20    </td> <td>99      </td> <td>107        </td> <td>119       </td>\n",
       "        </tr>\n",
       "        <tr>\n",
       "            <td>Yes          </td> <td>30    </td> <td>145     </td> <td>131        </td> <td>80        </td>\n",
       "        </tr>\n",
       "    </tbody>\n",
       "</table>"
      ],
      "text/plain": [
       "Ranked Choice | DK/REF | Democrat | Independent | Republican\n",
       "DK/REF        | 10     | 19       | 24          | 16\n",
       "No            | 20     | 99       | 107         | 119\n",
       "Yes           | 30     | 145      | 131         | 80"
      ]
     },
     "execution_count": 7,
     "metadata": {},
     "output_type": "execute_result"
    }
   ],
   "source": [
    "# counts for political affiliation and ranked choice\n",
    "survey_data.pivot(\"Political Affiliation\", \"Ranked Choice\")"
   ]
  },
  {
   "cell_type": "code",
   "execution_count": 8,
   "metadata": {},
   "outputs": [
    {
     "data": {
      "image/png": "[encoded data removed]",
      "text/plain": [
       "<Figure size 600x400 with 1 Axes>"
      ]
     },
     "metadata": {},
     "output_type": "display_data"
    }
   ],
   "source": [
    "# Bar graph for Political Affiliation and Ranked Choice\n",
    "survey_data.pivot(\"Political Affiliation\", \"Ranked Choice\").barh(\"Ranked Choice\")"
   ]
  },
  {
   "cell_type": "code",
   "execution_count": 9,
   "metadata": {},
   "outputs": [
    {
     "data": {
      "text/html": [
       "<table border=\"1\" class=\"dataframe\">\n",
       "    <thead>\n",
       "        <tr>\n",
       "            <th>Ranked Choice</th> <th>Conservative</th> <th>DK/REF</th> <th>Liberal</th> <th>Moderate</th>\n",
       "        </tr>\n",
       "    </thead>\n",
       "    <tbody>\n",
       "        <tr>\n",
       "            <td>DK/REF       </td> <td>24          </td> <td>11    </td> <td>12     </td> <td>22      </td>\n",
       "        </tr>\n",
       "        <tr>\n",
       "            <td>No           </td> <td>130         </td> <td>25    </td> <td>48     </td> <td>142     </td>\n",
       "        </tr>\n",
       "        <tr>\n",
       "            <td>Yes          </td> <td>91          </td> <td>37    </td> <td>83     </td> <td>175     </td>\n",
       "        </tr>\n",
       "    </tbody>\n",
       "</table>"
      ],
      "text/plain": [
       "Ranked Choice | Conservative | DK/REF | Liberal | Moderate\n",
       "DK/REF        | 24           | 11     | 12      | 22\n",
       "No            | 130          | 25     | 48      | 142\n",
       "Yes           | 91           | 37     | 83      | 175"
      ]
     },
     "execution_count": 9,
     "metadata": {},
     "output_type": "execute_result"
    }
   ],
   "source": [
    "# counts for political leaning and ranked choice\n",
    "survey_data.pivot(\"Political Leaning\", \"Ranked Choice\")"
   ]
  },
  {
   "cell_type": "code",
   "execution_count": 10,
   "metadata": {},
   "outputs": [
    {
     "data": {
      "image/png": "[encoded data removed]",
      "text/plain": [
       "<Figure size 600x400 with 1 Axes>"
      ]
     },
     "metadata": {},
     "output_type": "display_data"
    }
   ],
   "source": [
    "# Bar graph for Political Leaning and Ranked Choice\n",
    "survey_data.pivot(\"Political Leaning\", \"Ranked Choice\").barh(\"Ranked Choice\")"
   ]
  },
  {
   "cell_type": "markdown",
   "metadata": {},
   "source": [
    "## Inference: Hypothesis Test or Confidence Interval\n",
    "\n",
    "The null hypothesis for my inference is that there is no difference in supporting ranked choice voting between Republicans/Independents and Democrats. The alternative hypothesis for my inference is that there is a difference in supporting ranked choice voting between Republicans/Independents and Democrats. I chose to use a hypothesis test to see whether there is a difference among political affiliations in their support for ranked choice voting. \n",
    "\n",
    "First, I removed the variables I was not investigating. I turned responses to ranked choice and political affiliation into True or False. Democrats were considered True while Republicans and Independents were considered False. 'Yes' to ranked choice was considered True while 'No' to ranked choice was considered False. I created a function to calculate the statistic of the difference in means between the two groups. Then, I shuffled the political parties and simulated their support for ranked choice voting. I created another function to calculate the statistic for simulating the shuffling of political parties. I used a for loop to repeat the simulation 1000 times. I created a histogram to visualize the results and calculated the p-value. Because the p-value of 0.006 was greater than 0.05, I can fail to reject the null hypothesis. There is not enough evidence to say that there is a difference in supporting ranked choice voting between Republicans/Independents and Democrats. "
   ]
  },
  {
   "cell_type": "code",
   "execution_count": 11,
   "metadata": {},
   "outputs": [
    {
     "data": {
      "text/html": [
       "<table border=\"1\" class=\"dataframe\">\n",
       "    <thead>\n",
       "        <tr>\n",
       "            <th>Political Party</th> <th>Ranked Choice Voting</th>\n",
       "        </tr>\n",
       "    </thead>\n",
       "    <tbody>\n",
       "        <tr>\n",
       "            <td>True           </td> <td>False               </td>\n",
       "        </tr>\n",
       "        <tr>\n",
       "            <td>True           </td> <td>True                </td>\n",
       "        </tr>\n",
       "        <tr>\n",
       "            <td>True           </td> <td>True                </td>\n",
       "        </tr>\n",
       "    </tbody>\n",
       "</table>\n",
       "<p>... (797 rows omitted)</p>"
      ],
      "text/plain": [
       "<IPython.core.display.HTML object>"
      ]
     },
     "metadata": {},
     "output_type": "display_data"
    }
   ],
   "source": [
    "# I am removing the variables that I am not using\n",
    "removed = survey_data.drop(\"Trump\", \"Finances\", \"Fair Elections\", \"Woman President\", \"Universal Healthcare\", \"Race\", \"Gender\", \"Education\", \"Political Leaning\", \"Age\")\n",
    "\n",
    "# I am turning the responses to ranked choice and political affiliation into True or False\n",
    "def true_false_affiliation(response):\n",
    "    '''\n",
    "    For a response to political affiliation, turns it into a True or False depending on the answer. Independents will be combined with Republicans.\n",
    "    response: str, the response to Ranked Choice question\n",
    "    Returns: a boolean\n",
    "    '''\n",
    "    if response == \"Democrat\":\n",
    "        return True\n",
    "    if response == \"Republican\":\n",
    "        return False\n",
    "    else:\n",
    "        return False\n",
    "def true_false_ranked(response):\n",
    "    '''\n",
    "    For a response to ranked choice voting, turns it into a True or False depending on the answer. \n",
    "    response: str, the response to Ranked Choice question\n",
    "    Returns: a boolean\n",
    "    '''\n",
    "    if response == 'Yes':\n",
    "        return True\n",
    "    if response == 'No':\n",
    "        return False\n",
    "    else: \n",
    "        return False\n",
    "tf_ranked_choice = removed.apply(true_false_ranked, 'Ranked Choice')\n",
    "tf_affiliation = removed.apply(true_false_affiliation, 'Political Affiliation')\n",
    "affiliation_and_ranked_choice = removed.with_columns(\"Political Party\", tf_affiliation,\n",
    "                                      \"Ranked Choice Voting\", tf_ranked_choice).drop(\"Political Affiliation\", \"Ranked Choice\")\n",
    "affiliation_and_ranked_choice.show(3)"
   ]
  },
  {
   "cell_type": "code",
   "execution_count": 12,
   "metadata": {},
   "outputs": [
    {
     "data": {
      "text/plain": [
       "0.10254122678448785"
      ]
     },
     "execution_count": 12,
     "metadata": {},
     "output_type": "execute_result"
    }
   ],
   "source": [
    "# statistic to calculate\n",
    "ranked_choice_mean = affiliation_and_ranked_choice.group(\"Political Party\", collect = np.mean)\n",
    "ranked_choice_mean.column(\"Ranked Choice Voting mean\").item(1)-ranked_choice_mean.column(\"Ranked Choice Voting mean\").item(0)"
   ]
  },
  {
   "cell_type": "code",
   "execution_count": 13,
   "metadata": {},
   "outputs": [
    {
     "data": {
      "text/plain": [
       "0.10254122678448785"
      ]
     },
     "execution_count": 13,
     "metadata": {},
     "output_type": "execute_result"
    }
   ],
   "source": [
    "def statistic(affiliation_and_ranked_choice_table):\n",
    "    '''\n",
    "    Arguments:\n",
    "    affiliation_and_ranked_choice, Table: A table that looks like the affiliation_and_ranked_choice Table.\n",
    "    \n",
    "    Returns:\n",
    "    A statistic that compares the means of the two groups.\n",
    "    '''\n",
    "    ranked_choice_mean = affiliation_and_ranked_choice_table.group(\"Political Party\", collect = np.mean)\n",
    "    \n",
    "    return ranked_choice_mean.column(\"Ranked Choice Voting mean\").item(1) - ranked_choice_mean.column(\"Ranked Choice Voting mean\").item(0)\n",
    "\n",
    "observed_statistic = statistic(affiliation_and_ranked_choice)\n",
    "observed_statistic"
   ]
  },
  {
   "cell_type": "code",
   "execution_count": 14,
   "metadata": {},
   "outputs": [
    {
     "data": {
      "text/html": [
       "<table border=\"1\" class=\"dataframe\">\n",
       "    <thead>\n",
       "        <tr>\n",
       "            <th>Ranked Choice Voting</th> <th>Political Party</th>\n",
       "        </tr>\n",
       "    </thead>\n",
       "    <tbody>\n",
       "        <tr>\n",
       "            <td>False               </td> <td>True           </td>\n",
       "        </tr>\n",
       "        <tr>\n",
       "            <td>True                </td> <td>False          </td>\n",
       "        </tr>\n",
       "        <tr>\n",
       "            <td>True                </td> <td>True           </td>\n",
       "        </tr>\n",
       "        <tr>\n",
       "            <td>True                </td> <td>False          </td>\n",
       "        </tr>\n",
       "        <tr>\n",
       "            <td>True                </td> <td>False          </td>\n",
       "        </tr>\n",
       "        <tr>\n",
       "            <td>True                </td> <td>True           </td>\n",
       "        </tr>\n",
       "        <tr>\n",
       "            <td>False               </td> <td>True           </td>\n",
       "        </tr>\n",
       "        <tr>\n",
       "            <td>True                </td> <td>False          </td>\n",
       "        </tr>\n",
       "        <tr>\n",
       "            <td>False               </td> <td>True           </td>\n",
       "        </tr>\n",
       "        <tr>\n",
       "            <td>False               </td> <td>False          </td>\n",
       "        </tr>\n",
       "    </tbody>\n",
       "</table>\n",
       "<p>... (790 rows omitted)</p>"
      ],
      "text/plain": [
       "Ranked Choice Voting | Political Party\n",
       "False                | True\n",
       "True                 | False\n",
       "True                 | True\n",
       "True                 | False\n",
       "True                 | False\n",
       "True                 | True\n",
       "False                | True\n",
       "True                 | False\n",
       "False                | True\n",
       "False                | False\n",
       "... (790 rows omitted)"
      ]
     },
     "execution_count": 14,
     "metadata": {},
     "output_type": "execute_result"
    }
   ],
   "source": [
    "shuffled_party = affiliation_and_ranked_choice.sample(affiliation_and_ranked_choice.num_rows).column(\"Political Party\")\n",
    "simulated_party = Table().with_columns(\"Ranked Choice Voting\", affiliation_and_ranked_choice.column(\"Ranked Choice Voting\"),\n",
    "                                        \"Political Party\", shuffled_party)\n",
    "simulated_party"
   ]
  },
  {
   "cell_type": "code",
   "execution_count": 15,
   "metadata": {},
   "outputs": [
    {
     "data": {
      "text/plain": [
       "-0.017212345307450305"
      ]
     },
     "execution_count": 15,
     "metadata": {},
     "output_type": "execute_result"
    }
   ],
   "source": [
    "statistic(simulated_party)"
   ]
  },
  {
   "cell_type": "code",
   "execution_count": 16,
   "metadata": {},
   "outputs": [],
   "source": [
    "def simulation_and_statistic(table):\n",
    "    '''\n",
    "    Simulates shuffling the affiliation_and_ranked_choice table and calculating the statistics.\n",
    "    \n",
    "    Returns one statistic.\n",
    "    '''\n",
    "    shuffled_party = affiliation_and_ranked_choice.sample(affiliation_and_ranked_choice.num_rows).column(\"Political Party\")\n",
    "    simulated_party = Table().with_columns(\"Ranked Choice Voting\", affiliation_and_ranked_choice.column(\"Ranked Choice Voting\"),\n",
    "                                           \"Political Party\", shuffled_party)\n",
    "    return statistic(simulated_party)\n",
    "\n",
    "num_repetitions = 1000\n",
    "\n",
    "simulated_statistics = make_array()\n",
    "\n",
    "for i in np.arange(num_repetitions):\n",
    "    simulated_statistics = np.append(simulated_statistics, simulation_and_statistic(affiliation_and_ranked_choice))\n"
   ]
  },
  {
   "cell_type": "code",
   "execution_count": 17,
   "metadata": {},
   "outputs": [
    {
     "data": {
      "text/plain": [
       "<matplotlib.collections.PathCollection at 0x7f43fed2dfa0>"
      ]
     },
     "execution_count": 17,
     "metadata": {},
     "output_type": "execute_result"
    },
    {
     "data": {
      "image/png": "[encoded data removed]",
      "text/plain": [
       "<Figure size 600x400 with 1 Axes>"
      ]
     },
     "metadata": {},
     "output_type": "display_data"
    }
   ],
   "source": [
    "Table().with_columns(\"simulated\", simulated_statistics).hist()\n",
    "plt.scatter(observed_statistic, 0, color='red', s=30)"
   ]
  },
  {
   "cell_type": "code",
   "execution_count": 19,
   "metadata": {},
   "outputs": [
    {
     "data": {
      "text/plain": [
       "0.0060000000000000001"
      ]
     },
     "execution_count": 19,
     "metadata": {},
     "output_type": "execute_result"
    }
   ],
   "source": [
    "p_value = np.sum(simulated_statistics >= observed_statistic) / num_repetitions\n",
    "p_value"
   ]
  },
  {
   "cell_type": "markdown",
   "metadata": {},
   "source": [
    "# Prediction\n",
    "\n",
    "To approach the prediction problem, I used a K-Nearest Neighbors and decision tree model to predict who supports and who does not support ranked choice voting. We can use these models to see which one best predicts support for ranked choice voting. The outcome variable will be 'ranked choice'. People who support ranked choice voting will be labeled as \"1\" while people who do not support ranked choice voting will be labeled as \"0\". Supporting ranked choice voting, which will have a label of \"1\", will be the \"positive\" case. For the variables I am looking at (Political Affiliation and Political Leaning), I used \"True\" and \"False\" to label the categories within each variable. Then I created a training set with 80% of the survey data and a test set with a random 20% of the data. \n",
    "\n",
    "For KNN, I fit the training data into KNN models and set neighbors equal to 5, 9, 15, 19, and 25. I predicted the test set using a threshold of 0.1, 0.2, 0.3, 0.4, and 0.5. Lastly, I used precision, accuracy, and recall scores to evaluate the model. For the decision tree model, I fit the training data into a decision tree model with a max depth of 2, 3, 4, and 5. I predicted the test set using a threshold of 0.1, 0.2, 0.3, 0.4, and 0.5. Lastly, I used precision, accuracy, and recall scores to evaluate the model. \n",
    "\n",
    "The precision of the decision tree model was better than the baseline of a random model. The precision of the decision tree was 0.79 while the precision for a baseline of a random model was 0.49. The decision tree with a threshold of 0.5 and max depth of 2 was the best model because it had the highest precision. The precision of the KNN model was also better than the baseline of a random model. The precision of the KNN model was 0.54, which is higher than the baseline precision. The KNN model appeared to have the same precision, accuracy, and recall at all the number of neighbors used. Therefore, the final model I would use is the decision tree model, based on the precision scores. \n"
   ]
  },
  {
   "cell_type": "code",
   "execution_count": 105,
   "metadata": {},
   "outputs": [],
   "source": [
    "# importing the libraries necessary for prediction\n",
    "from sklearn.tree import DecisionTreeClassifier, plot_tree\n",
    "from sklearn.neighbors import KNeighborsClassifier\n",
    "\n",
    "from sklearn.metrics import confusion_matrix\n",
    "from sklearn.metrics import accuracy_score, precision_score, recall_score\n"
   ]
  },
  {
   "cell_type": "code",
   "execution_count": 184,
   "metadata": {},
   "outputs": [
    {
     "data": {
      "text/html": [
       "<table border=\"1\" class=\"dataframe\">\n",
       "    <thead>\n",
       "        <tr>\n",
       "            <th>Age</th> <th>ranked choice</th> <th>Democrat</th> <th>Republican</th> <th>Independent</th> <th>Liberal</th> <th>Moderate</th> <th>Conservative</th>\n",
       "        </tr>\n",
       "    </thead>\n",
       "    <tbody>\n",
       "        <tr>\n",
       "            <td>81  </td> <td>0            </td> <td>True    </td> <td>False     </td> <td>False      </td> <td>True   </td> <td>False   </td> <td>False       </td>\n",
       "        </tr>\n",
       "        <tr>\n",
       "            <td>80  </td> <td>1            </td> <td>True    </td> <td>False     </td> <td>False      </td> <td>False  </td> <td>True    </td> <td>False       </td>\n",
       "        </tr>\n",
       "        <tr>\n",
       "            <td>65  </td> <td>1            </td> <td>True    </td> <td>False     </td> <td>False      </td> <td>False  </td> <td>True    </td> <td>False       </td>\n",
       "        </tr>\n",
       "    </tbody>\n",
       "</table>\n",
       "<p>... (797 rows omitted)</p>"
      ],
      "text/plain": [
       "<IPython.core.display.HTML object>"
      ]
     },
     "metadata": {},
     "output_type": "display_data"
    }
   ],
   "source": [
    "# I am removing the variables that I am not using\n",
    "removed = survey_data.drop(\"Trump\", \"Finances\", \"Fair Elections\", \"Woman President\", \"Universal Healthcare\", \"Race\", \"Gender\", \"Education\")\n",
    "\n",
    "# I created a function to turn responses into 1 and 0\n",
    "def create_ranked_label(response):\n",
    "    '''\n",
    "    For a response to ranked choice voting, turns it into a True or False depending on the answer. \n",
    "    response: str, the response to Ranked Choice question\n",
    "    Returns: a boolean\n",
    "    '''\n",
    "    if response == 'Yes':\n",
    "        return 1\n",
    "    if response == 'No':\n",
    "        return 0\n",
    "    else: \n",
    "        return 0\n",
    "ranked_choice_dummy = removed.apply(create_ranked_label, 'Ranked Choice')\n",
    "ranked_choice_label = removed.with_columns(\"ranked choice\", ranked_choice_dummy).drop(\"Ranked Choice\")\n",
    "\n",
    "# For the variables we are looking at, I turned each category into True or False for each variable.\n",
    "democrat = survey_data.column(\"Political Affiliation\") == \"Democrat\"\n",
    "republican = survey_data.column(\"Political Affiliation\") == \"Republican\"\n",
    "independent = survey_data.column(\"Political Affiliation\") == \"Independent\"\n",
    "\n",
    "liberal = survey_data.column(\"Political Leaning\") == \"Liberal\"\n",
    "moderate = survey_data.column(\"Political Leaning\") == \"Moderate\"\n",
    "conservative = survey_data.column(\"Political Leaning\") == \"Conservative\"\n",
    "\n",
    "clean_survey_data = ranked_choice_label.with_columns(\"Democrat\", democrat,\n",
    "                                                     \"Republican\", republican,\n",
    "                                                     \"Independent\", independent,\n",
    "                                                     \"Liberal\", liberal,\n",
    "                                                     \"Moderate\", moderate,\n",
    "                                                     \"Conservative\", conservative).drop(\"Political Affiliation\", \"Political Leaning\")\n",
    "# This is what the data looks like now that it is cleaned up\n",
    "clean_survey_data.show(3)"
   ]
  },
  {
   "cell_type": "code",
   "execution_count": 182,
   "metadata": {},
   "outputs": [],
   "source": [
    "# Find the number of rows you want to take by multiplying the number of rows in survey_data by 0.8. \n",
    "rows_to_take = int(0.8*clean_survey_data.num_rows)\n",
    "\n",
    "# Shuffle the survey_data Table\n",
    "shuffled_data = clean_survey_data.sample(with_replacement = False)\n",
    "\n",
    "# Splitting the data into a train and test set\n",
    "train = shuffled_data.take(np.arange(rows_to_take))\n",
    "test = shuffled_data.take(np.arange(rows_to_take, clean_survey_data.num_rows))\n",
    "\n",
    "# checking that 80% of the data are part of the training set (640) and 20% are part of the test set (160)\n",
    "# train.num_rows\n",
    "# test.num_rows"
   ]
  },
  {
   "cell_type": "markdown",
   "metadata": {},
   "source": [
    "## K-Nearest Neighbors"
   ]
  },
  {
   "cell_type": "code",
   "execution_count": 183,
   "metadata": {},
   "outputs": [
    {
     "data": {
      "text/html": [
       "<table border=\"1\" class=\"dataframe\">\n",
       "    <thead>\n",
       "        <tr>\n",
       "            <th>k</th> <th>Threshold</th> <th>Accuracy</th> <th>Precision</th> <th>Recall</th>\n",
       "        </tr>\n",
       "    </thead>\n",
       "    <tbody>\n",
       "        <tr>\n",
       "            <td>5   </td> <td>0.1      </td> <td>0.5375  </td> <td>0.540984 </td> <td>0.417722</td>\n",
       "        </tr>\n",
       "        <tr>\n",
       "            <td>9   </td> <td>0.3      </td> <td>0.5375  </td> <td>0.540984 </td> <td>0.417722</td>\n",
       "        </tr>\n",
       "        <tr>\n",
       "            <td>15  </td> <td>0.5      </td> <td>0.5375  </td> <td>0.540984 </td> <td>0.417722</td>\n",
       "        </tr>\n",
       "        <tr>\n",
       "            <td>19  </td> <td>0.7      </td> <td>0.5375  </td> <td>0.540984 </td> <td>0.417722</td>\n",
       "        </tr>\n",
       "        <tr>\n",
       "            <td>25  </td> <td>0.9      </td> <td>0.5375  </td> <td>0.540984 </td> <td>0.417722</td>\n",
       "        </tr>\n",
       "    </tbody>\n",
       "</table>"
      ],
      "text/plain": [
       "k    | Threshold | Accuracy | Precision | Recall\n",
       "5    | 0.1       | 0.5375   | 0.540984  | 0.417722\n",
       "9    | 0.3       | 0.5375   | 0.540984  | 0.417722\n",
       "15   | 0.5       | 0.5375   | 0.540984  | 0.417722\n",
       "19   | 0.7       | 0.5375   | 0.540984  | 0.417722\n",
       "25   | 0.9       | 0.5375   | 0.540984  | 0.417722"
      ]
     },
     "execution_count": 183,
     "metadata": {},
     "output_type": "execute_result"
    }
   ],
   "source": [
    "# simulates the KNN model and evaluates the model\n",
    "k_values = make_array()\n",
    "threshold_values = make_array()\n",
    "knn_accuracy = make_array()\n",
    "knn_precision = make_array()\n",
    "knn_recall = make_array()\n",
    "expected = test.column('ranked choice')\n",
    "\n",
    "for k in make_array(5, 9, 15, 19, 25):\n",
    "        # creating a model object\n",
    "        knn = KNeighborsClassifier(n_neighbors = k)\n",
    "        \n",
    "        # defining the predictor and outcome\n",
    "        predictor = train.drop(\"ranked choice\").rows\n",
    "        outcome = train.column(\"ranked choice\")\n",
    "        \n",
    "        # fitting the model\n",
    "        knn.fit(X = predictor, y = outcome)\n",
    "        \n",
    "        test_features = test.drop(\"ranked choice\").rows\n",
    "        knn_predicted = knn.predict_proba(test_features)[:,1] > threshold\n",
    "        \n",
    "        k_values = np.append(k_values, k)\n",
    "        \n",
    "for threshold in make_array(0.1, 0.3, 0.5, 0.7, 0.9):\n",
    "        threshold_values = np.append(threshold_values, threshold)\n",
    "        knn_accuracy = np.append(knn_accuracy, accuracy_score(test.column(\"ranked choice\"), knn_predicted))\n",
    "        knn_precision = np.append(knn_precision, precision_score(expected, knn_predicted))\n",
    "        knn_recall = np.append(knn_recall, recall_score(expected, knn_predicted))\n",
    "\n",
    "knn_results = Table().with_columns(\"k\", k_values,\n",
    "                                   \"Threshold\", threshold_values,\n",
    "                                   \"Accuracy\", knn_accuracy,\n",
    "                                   \"Precision\", knn_precision,\n",
    "                                   \"Recall\", knn_recall)\n",
    "                                   \n",
    "knn_results.sort(\"Precision\", descending = True)\n"
   ]
  },
  {
   "cell_type": "markdown",
   "metadata": {
    "tags": []
   },
   "source": [
    "## Decision Tree"
   ]
  },
  {
   "cell_type": "code",
   "execution_count": 177,
   "metadata": {},
   "outputs": [
    {
     "data": {
      "text/html": [
       "<table border=\"1\" class=\"dataframe\">\n",
       "    <thead>\n",
       "        <tr>\n",
       "            <th>Threshold</th> <th>Max Depth</th> <th>Precision</th> <th>Recall</th>\n",
       "        </tr>\n",
       "    </thead>\n",
       "    <tbody>\n",
       "        <tr>\n",
       "            <td>0.5      </td> <td>2        </td> <td>0.787879 </td> <td>0.309524</td>\n",
       "        </tr>\n",
       "        <tr>\n",
       "            <td>0.5      </td> <td>3        </td> <td>0.736842 </td> <td>0.333333</td>\n",
       "        </tr>\n",
       "        <tr>\n",
       "            <td>0.5      </td> <td>5        </td> <td>0.696429 </td> <td>0.464286</td>\n",
       "        </tr>\n",
       "        <tr>\n",
       "            <td>0.4      </td> <td>4        </td> <td>0.614583 </td> <td>0.702381</td>\n",
       "        </tr>\n",
       "        <tr>\n",
       "            <td>0.5      </td> <td>4        </td> <td>0.609195 </td> <td>0.630952</td>\n",
       "        </tr>\n",
       "        <tr>\n",
       "            <td>0.4      </td> <td>3        </td> <td>0.6      </td> <td>0.714286</td>\n",
       "        </tr>\n",
       "        <tr>\n",
       "            <td>0.4      </td> <td>5        </td> <td>0.59375  </td> <td>0.678571</td>\n",
       "        </tr>\n",
       "        <tr>\n",
       "            <td>0.3      </td> <td>4        </td> <td>0.578947 </td> <td>0.916667</td>\n",
       "        </tr>\n",
       "        <tr>\n",
       "            <td>0.3      </td> <td>3        </td> <td>0.578125 </td> <td>0.880952</td>\n",
       "        </tr>\n",
       "        <tr>\n",
       "            <td>0.4      </td> <td>2        </td> <td>0.574803 </td> <td>0.869048</td>\n",
       "        </tr>\n",
       "    </tbody>\n",
       "</table>\n",
       "<p>... (10 rows omitted)</p>"
      ],
      "text/plain": [
       "Threshold | Max Depth | Precision | Recall\n",
       "0.5       | 2         | 0.787879  | 0.309524\n",
       "0.5       | 3         | 0.736842  | 0.333333\n",
       "0.5       | 5         | 0.696429  | 0.464286\n",
       "0.4       | 4         | 0.614583  | 0.702381\n",
       "0.5       | 4         | 0.609195  | 0.630952\n",
       "0.4       | 3         | 0.6       | 0.714286\n",
       "0.4       | 5         | 0.59375   | 0.678571\n",
       "0.3       | 4         | 0.578947  | 0.916667\n",
       "0.3       | 3         | 0.578125  | 0.880952\n",
       "0.4       | 2         | 0.574803  | 0.869048\n",
       "... (10 rows omitted)"
      ]
     },
     "execution_count": 177,
     "metadata": {},
     "output_type": "execute_result"
    }
   ],
   "source": [
    "thresholds = make_array()\n",
    "depths = make_array()\n",
    "precisions = make_array()\n",
    "recalls = make_array()\n",
    "\n",
    "\n",
    "predictors = train.drop('ranked choice').rows\n",
    "outcome = train.column('ranked choice')\n",
    "expected = test.column('ranked choice')\n",
    "\n",
    "\n",
    "for threshold in make_array(0.1, 0.2, 0.3, 0.4, 0.5):\n",
    "    for depth in make_array(2, 3, 4, 5):\n",
    "        tree = DecisionTreeClassifier(max_depth = depth)\n",
    "        tree.fit(X = predictors, y = outcome)\n",
    "        test_features = test.drop('ranked choice').rows\n",
    "        tree_predicted = tree.predict_proba(test_features)[:,1] > threshold\n",
    "        thresholds = np.append(thresholds, threshold)\n",
    "        depths = np.append(depths, depth)\n",
    "        precisions = np.append(precisions, precision_score(expected, tree_predicted))\n",
    "        recalls = np.append(recalls, recall_score(expected, tree_predicted))\n",
    "        \n",
    "tree_results = Table().with_columns('Threshold', thresholds,\n",
    "                                    'Max Depth', depths,\n",
    "                                    'Precision', precisions,\n",
    "                                    'Recall', recalls)\n",
    "\n",
    "tree_results.sort(\"Precision\", descending = True)"
   ]
  },
  {
   "cell_type": "code",
   "execution_count": 185,
   "metadata": {},
   "outputs": [
    {
     "data": {
      "text/html": [
       "<table border=\"1\" class=\"dataframe\">\n",
       "    <thead>\n",
       "        <tr>\n",
       "            <th>ranked choice</th> <th>count</th>\n",
       "        </tr>\n",
       "    </thead>\n",
       "    <tbody>\n",
       "        <tr>\n",
       "            <td>0            </td> <td>81   </td>\n",
       "        </tr>\n",
       "        <tr>\n",
       "            <td>1            </td> <td>79   </td>\n",
       "        </tr>\n",
       "    </tbody>\n",
       "</table>"
      ],
      "text/plain": [
       "ranked choice | count\n",
       "0             | 81\n",
       "1             | 79"
      ]
     },
     "execution_count": 185,
     "metadata": {},
     "output_type": "execute_result"
    }
   ],
   "source": [
    "# test the decision tree against a baseline\n",
    "test.group('ranked choice')"
   ]
  },
  {
   "cell_type": "code",
   "execution_count": 186,
   "metadata": {},
   "outputs": [
    {
     "data": {
      "text/plain": [
       "0.49375"
      ]
     },
     "execution_count": 186,
     "metadata": {},
     "output_type": "execute_result"
    }
   ],
   "source": [
    "79/(81+79)"
   ]
  },
  {
   "cell_type": "markdown",
   "metadata": {},
   "source": [
    "## Conclusion\n",
    "\n",
    "Ranked choice voting is where people can vote for and rank candidates in order of their preference. A consulting company wanted to know the best way to increase people's support for ranked choice voting in the U.S. by finding who currently supports ranked choice voting and predicting who might not support ranked choice voting. \n",
    "\n",
    "First, I performed a hypothesis test testing whether there is a difference in support for ranked choice voting between Republicans/Independents and Democrats. I calculated a p-value of 0.006, which was greater than 0.05. I failed to reject the null hypothesis. There was not enough evidence to say that there is a difference in supporting ranked choice voting between Republicans/Independents and Democrats. The consulting company may not be able to use political affiliation to predict who supports ranked choice voting because there may be no difference between the political parties. The consulting company may want to observe and test other variables to predict who supports ranked choice voting. \n",
    "\n",
    "Next, I created K-nearest neighbors and decision tree models to predict who might not support ranked choice voting. I found that a decision tree with a max depth of 2 and threshold of 0.5 was the best model of prediction. The consulting company may want to use a decision tree for their predictions. \n",
    "\n",
    "These results are important and can be applied in the real world because we can use existing data on types of people to try to predict their behavior and choices. This has a wide variety of applications in various industries because people make hundreds of decisions every day.  "
   ]
  },
  {
   "cell_type": "code",
   "execution_count": null,
   "metadata": {},
   "outputs": [],
   "source": []
  }
 ],
 "metadata": {
  "kernelspec": {
   "display_name": "Python 3 (ipykernel)",
   "language": "python",
   "name": "python3"
  },
  "language_info": {
   "codemirror_mode": {
    "name": "ipython",
    "version": 3
   },
   "file_extension": ".py",
   "mimetype": "text/x-python",
   "name": "python",
   "nbconvert_exporter": "python",
   "pygments_lexer": "ipython3",
   "version": "3.8.10"
  },
  "toc": {
   "base_numbering": 1,
   "nav_menu": {},
   "number_sections": true,
   "sideBar": true,
   "skip_h1_title": false,
   "title_cell": "Table of Contents",
   "title_sidebar": "Contents",
   "toc_cell": false,
   "toc_position": {},
   "toc_section_display": true,
   "toc_window_display": false
  }
 },
 "nbformat": 4,
 "nbformat_minor": 4
}
